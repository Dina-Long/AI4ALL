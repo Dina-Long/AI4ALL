{
 "cells": [
  {
   "cell_type": "markdown",
   "metadata": {},
   "source": [
    "# Convolutions"
   ]
  },
  {
   "cell_type": "code",
   "execution_count": null,
   "metadata": {},
   "outputs": [],
   "source": [
    "!git clone https://github.com/Srinivas-R/AI4ALL.git"
   ]
  },
  {
   "cell_type": "markdown",
   "metadata": {},
   "source": [
    "Working example: Identify the presence of squares (of arbitrary size) in a picture"
   ]
  },
  {
   "cell_type": "code",
   "execution_count": null,
   "metadata": {},
   "outputs": [],
   "source": [
    "from PIL import Image\n",
    "import numpy as np\n",
    "import matplotlib.pyplot as plt\n",
    "from scipy import signal\n",
    "\n",
    "np.set_printoptions(threshold=300)"
   ]
  },
  {
   "cell_type": "markdown",
   "metadata": {},
   "source": [
    "### Load the image"
   ]
  },
  {
   "cell_type": "code",
   "execution_count": null,
   "metadata": {},
   "outputs": [],
   "source": [
    "imagePath = './images2/'\n",
    "square = np.array(Image.open(imagePath + 'squares2.png'))\n",
    "plt.imshow(square)"
   ]
  },
  {
   "cell_type": "markdown",
   "metadata": {},
   "source": [
    "### Plot the R, G and the B channels separately"
   ]
  },
  {
   "cell_type": "code",
   "execution_count": null,
   "metadata": {
    "scrolled": true
   },
   "outputs": [],
   "source": [
    "plt.title('R Channel')\n",
    "plt.imshow(square[:,:,0], cmap='gray', vmin=0, vmax=255)\n",
    "plt.colorbar()"
   ]
  },
  {
   "cell_type": "code",
   "execution_count": null,
   "metadata": {},
   "outputs": [],
   "source": [
    "plt.title('G Channel')\n",
    "plt.imshow(square[:,:,1], cmap='gray')"
   ]
  },
  {
   "cell_type": "code",
   "execution_count": null,
   "metadata": {},
   "outputs": [],
   "source": [
    "plt.title('B Channel')\n",
    "plt.imshow(square[:,:,2], cmap='gray')"
   ]
  },
  {
   "cell_type": "markdown",
   "metadata": {},
   "source": [
    "### For our basic challenge, we don't need the color channels. So let's convert it into grayscale"
   ]
  },
  {
   "cell_type": "code",
   "execution_count": null,
   "metadata": {},
   "outputs": [],
   "source": [
    "gray = 0.2989 * square[:,:,0] + 0.5870 * square[:,:,1] + 0.1140 * square[:,:,2]\n",
    "plt.imshow(gray, cmap='gray', vmin=0)\n",
    "plt.colorbar()"
   ]
  },
  {
   "cell_type": "code",
   "execution_count": null,
   "metadata": {},
   "outputs": [],
   "source": [
    "inverted = (1.0 - gray/gray.max())\n",
    "plt.imshow(inverted, cmap='gray', vmin=0, vmax=1)\n",
    "plt.colorbar()"
   ]
  },
  {
   "cell_type": "markdown",
   "metadata": {},
   "source": [
    "### Let's work with a smaller example for now"
   ]
  },
  {
   "cell_type": "code",
   "execution_count": null,
   "metadata": {},
   "outputs": [],
   "source": [
    "small_inverted = inverted[250:450, 0:200]"
   ]
  },
  {
   "cell_type": "code",
   "execution_count": null,
   "metadata": {},
   "outputs": [],
   "source": [
    "plt.imshow(small_inverted, cmap='gray', vmin=0, vmax=1)"
   ]
  },
  {
   "cell_type": "markdown",
   "metadata": {},
   "source": [
    "### Alright cool, you have everything setup! Now, how do we tackle the actual problem?"
   ]
  },
  {
   "cell_type": "markdown",
   "metadata": {},
   "source": [
    "### Given size of square: 52 x 52. Recall that the filter resembles what you're searching for: a white square with a black surrounding. Question: Why do we set the surrounding to a large negative value? "
   ]
  },
  {
   "cell_type": "code",
   "execution_count": null,
   "metadata": {},
   "outputs": [],
   "source": [
    "square_filter = np.ones((53, 53))"
   ]
  },
  {
   "cell_type": "code",
   "execution_count": null,
   "metadata": {},
   "outputs": [],
   "source": [
    "square_filter[:,0] = -15\n",
    "square_filter[:,-1] = -15\n",
    "square_filter[0, :] = -15\n",
    "square_filter[-1, :] = -15"
   ]
  },
  {
   "cell_type": "code",
   "execution_count": null,
   "metadata": {},
   "outputs": [],
   "source": [
    "plt.imshow(square_filter, cmap='gray', vmin=-15, vmax=1)"
   ]
  },
  {
   "cell_type": "markdown",
   "metadata": {},
   "source": [
    "### Exercise 2.1\n",
    "\n",
    "Try commenting out the large negative values, see what happens"
   ]
  },
  {
   "cell_type": "markdown",
   "metadata": {},
   "source": [
    "### Question\n",
    "\n",
    "Why do I want all this fancy convolution stuff? Why not just search directly (equating the expected value with a sliding window over the image)? "
   ]
  },
  {
   "cell_type": "code",
   "execution_count": null,
   "metadata": {
    "scrolled": true
   },
   "outputs": [],
   "source": [
    "inverted_noised = inverted.copy()\n",
    "inverted_noised[336, 96] = 0.8\n",
    "for i in range(150):\n",
    "    x,y = np.random.randint(low=1, high=50), np.random.randint(low=1, high=50)\n",
    "    inverted_noised[336 + x, 96 + y] = 0.2\n",
    "small_inverted_noised = inverted_noised[250:450, 0:200]\n",
    "plt.imshow(small_inverted_noised, cmap='gray')"
   ]
  },
  {
   "cell_type": "markdown",
   "metadata": {},
   "source": [
    "### Answer\n",
    "\n",
    "The real world is *noisy*. Smudges from camera, dust and dirt covering the object, effect of lighting, all create *imperfections*. So exact matches are too strict a condition. The square in the image above might have some dirt covering a bit of it, but it should still be counted."
   ]
  },
  {
   "cell_type": "code",
   "execution_count": null,
   "metadata": {
    "scrolled": true
   },
   "outputs": [],
   "source": [
    "output = signal.convolve2d(small_inverted, square_filter, mode='valid')\n",
    "output2 = signal.convolve2d(small_inverted_noised, square_filter, mode='valid')"
   ]
  },
  {
   "cell_type": "markdown",
   "metadata": {},
   "source": [
    "### Intuition about outputs\n",
    "\n",
    "Convolutions, when set with the right filter values, gives us a *confidence* value that the filter pattern exists in that location. High value: High confidence. Low value: Low confidence. Then we can set a cut-off value, based on how lenient we want to be. Any location above that threshold: contains the patten "
   ]
  },
  {
   "cell_type": "markdown",
   "metadata": {},
   "source": [
    "### Exercise 2.2\n",
    "\n",
    "Play around with the confidence threshold and see what happens to the imperfect square."
   ]
  },
  {
   "cell_type": "code",
   "execution_count": null,
   "metadata": {},
   "outputs": [],
   "source": [
    "#increase and decrease this value, run the cell, see what happens\n",
    "confidence_thresh = 710\n",
    "\n",
    "vis1 = (output > confidence_thresh)\n",
    "vis2 = (output2 > confidence_thresh)\n",
    "prediction = 'Contains square' if vis1.any() else 'No square'\n",
    "prediction2 = 'Contains square' if vis2.any() else 'No square'\n",
    "\n",
    "fig = plt.figure(figsize=(15, 15))\n",
    "ax1 = fig.add_subplot(1, 2, 1)\n",
    "ax1.title.set_text('perfect square, thresh : {}, Prediction : {}'.format(confidence_thresh, prediction))\n",
    "plt.imshow(vis1)\n",
    "ax2 = fig.add_subplot(1, 2, 2)\n",
    "ax2.title.set_text('imperfect square, thresh : {}, Prediction : {}'.format(confidence_thresh, prediction2))\n",
    "plt.imshow(vis2)"
   ]
  },
  {
   "cell_type": "markdown",
   "metadata": {},
   "source": [
    "### Exercise 2.3\n",
    "\n",
    "Load the triangles image instead of the square and run the above pipeline, see what prediction you get. The steps are given below."
   ]
  },
  {
   "cell_type": "code",
   "execution_count": null,
   "metadata": {},
   "outputs": [],
   "source": [
    "#Load the triangle image\n",
    "\n",
    "#Convert to grayscale\n",
    "\n",
    "#Crop a small portion of the image containing a triangle for convenience\n",
    "\n",
    "#Convolve using the square filter provided\n",
    "\n",
    "#See what happens if you use the same confidence value above as a threshold"
   ]
  },
  {
   "cell_type": "markdown",
   "metadata": {},
   "source": [
    "### Size invariance\n",
    "\n",
    "So far, we've used exact size of the pattern. But we usually don't know the size. We should try detecting something size-invariant: like corners. So first we convert the filled in square to edges"
   ]
  },
  {
   "cell_type": "code",
   "execution_count": 6,
   "metadata": {},
   "outputs": [],
   "source": [
    "#create a vertical black to white edge detector\n",
    "sobel_filter_vertical = np.array([[-1, 0, 1], \n",
    "                                 [-2, 0, 2], \n",
    "                                 [-1, 0, 1]])"
   ]
  },
  {
   "cell_type": "code",
   "execution_count": 7,
   "metadata": {},
   "outputs": [],
   "source": [
    "#create a horizontal white to black edge detector\n",
    "sobel_filter_horizontal = np.array([[1, 2, 1], \n",
    "                                    [0, 0, 0], \n",
    "                                    [-1,-2,-1]])"
   ]
  },
  {
   "cell_type": "code",
   "execution_count": null,
   "metadata": {
    "scrolled": true
   },
   "outputs": [],
   "source": [
    "plt.imshow(sobel_filter_vertical, cmap='gray')"
   ]
  },
  {
   "cell_type": "code",
   "execution_count": null,
   "metadata": {},
   "outputs": [],
   "source": [
    "plt.imshow(sobel_filter_horizontal, cmap='gray')"
   ]
  },
  {
   "cell_type": "code",
   "execution_count": null,
   "metadata": {},
   "outputs": [],
   "source": [
    "output = signal.convolve2d(small_inverted, sobel_filter_vertical, mode='valid')\n",
    "output2 = signal.convolve2d(small_inverted, sobel_filter_horizontal, mode='valid')"
   ]
  },
  {
   "cell_type": "code",
   "execution_count": null,
   "metadata": {
    "scrolled": true
   },
   "outputs": [],
   "source": [
    "plt.imshow(output, cmap='gray', vmin=-1, vmax=1)"
   ]
  },
  {
   "cell_type": "code",
   "execution_count": null,
   "metadata": {},
   "outputs": [],
   "source": [
    "plt.imshow(output2, cmap='gray', vmin=-1, vmax=1)"
   ]
  },
  {
   "cell_type": "markdown",
   "metadata": {},
   "source": [
    "### Exercise 2.4\n",
    "\n",
    "Design filters to detect edges in other direction (white to black).\n",
    "\n",
    "Hint: Try to emulate the filters above, but in the reverse direction."
   ]
  },
  {
   "cell_type": "code",
   "execution_count": null,
   "metadata": {},
   "outputs": [],
   "source": [
    "horizontal_filter_inverted = \n",
    "vertical_filter_inverted = \n",
    "\n",
    "#Convolve the filters over the image, as in the previous cells\n",
    "\n",
    "output3 = signal.convolve2d(small_inverted, , mode='valid')\n",
    "output4 = signal.convolve2d(small_inverted, , mode='valid')\n",
    "\n",
    "#Visualize the outputs as in the previous cells.\n"
   ]
  },
  {
   "cell_type": "code",
   "execution_count": null,
   "metadata": {},
   "outputs": [],
   "source": [
    "#For each of the convolution outputs, keep a pixel value if positive, make it 0 if negative. Essentially,\n",
    "#wherever a pattern is found, value is high (and positive), so keep only that. We'll also see some other reasons\n",
    "#for doing in this in the next lecture.\n",
    "\n",
    "output_threshed1 = np.maximum(0, )\n",
    "output_threshed2 = np.maximum(0, )\n",
    "output_threshed3 = np.maximum(0, )\n",
    "output_threshed4 = np.maximum(0, )\n",
    "\n",
    "#Plot each of the above thresholded outputs to see what they look like\n",
    "\n",
    "#Add all the thresholded outputs to get an edge representation\n",
    "edge_rep = \n",
    "\n",
    "#Plot the new representation (edges of the image).\n",
    "plt.imshow(edge_rep, cmap='gray', vmin=0, vmax=1)"
   ]
  },
  {
   "cell_type": "markdown",
   "metadata": {},
   "source": [
    "### It's all about compositions: \n",
    "\n",
    "Combine Edges -> Basic Shapes\n",
    "\n",
    "Combine basic shapes -> Complex Shapes\n",
    "\n",
    "Combine complex shapes -> Faces/Dogs/Cats/Crop Weeds, etc.\n",
    "\n",
    "### Examples\n",
    "\n",
    "Rectange has 4 corner shapes. If we detect these, we can be reasonably confident that a rectange exists.\n",
    "\n",
    "Triangle has 3 angles. Same as above."
   ]
  },
  {
   "cell_type": "markdown",
   "metadata": {},
   "source": [
    "### Exercise 2.5\n",
    "\n",
    "Design 3 x 3 filters to detect each of the 4 corners of a rectangle. We will be running these on the edge representation, so look at it again to get an idea of what 3 x 3 pixels a corner would have."
   ]
  },
  {
   "cell_type": "code",
   "execution_count": null,
   "metadata": {},
   "outputs": [],
   "source": [
    "corner_filter1 = np.array()\n",
    "corner_filter2 = np.array()\n",
    "corner_filter3 = np.array()\n",
    "corner_filter4 = np.array()"
   ]
  },
  {
   "cell_type": "code",
   "execution_count": null,
   "metadata": {},
   "outputs": [],
   "source": [
    "#Convolve the filters (over what? fill in below) to detect if corners exist\n",
    "\n",
    "corner_output1 = signal.convolve2d(, corner_filter1, mode='valid')\n",
    "corner_output2 = signal.convolve2d(, corner_filter2, mode='valid')\n",
    "corner_output3 = signal.convolve2d(, corner_filter3, mode='valid')\n",
    "corner_output4 = signal.convolve2d(, corner_filter4, mode='valid')"
   ]
  },
  {
   "cell_type": "code",
   "execution_count": null,
   "metadata": {},
   "outputs": [],
   "source": [
    "#Set threshold \n",
    "confidence_thresh = \n",
    "\n",
    "#If pattern exists anywhere in the image, some pixels will exceed confidence thresh\n",
    "corner1_exists = (corner_output1 > confidence_thresh).any()\n",
    "corner2_exists = (corner_output2 > confidence_thresh).any()\n",
    "corner3_exists = (corner_output3 > confidence_thresh).any()\n",
    "corner4_exists = (corner_output4 > confidence_thresh).any()\n",
    "\n",
    "#Write the AND function of the above\n",
    "rectangle_exists = "
   ]
  },
  {
   "cell_type": "code",
   "execution_count": null,
   "metadata": {},
   "outputs": [],
   "source": [
    "print('Rectangle exists in the following image : ' + str(rectange_exists))"
   ]
  }
 ],
 "metadata": {
  "kernelspec": {
   "display_name": "Python 3",
   "language": "python",
   "name": "python3"
  },
  "language_info": {
   "codemirror_mode": {
    "name": "ipython",
    "version": 3
   },
   "file_extension": ".py",
   "mimetype": "text/x-python",
   "name": "python",
   "nbconvert_exporter": "python",
   "pygments_lexer": "ipython3",
   "version": "3.6.8"
  }
 },
 "nbformat": 4,
 "nbformat_minor": 2
}
