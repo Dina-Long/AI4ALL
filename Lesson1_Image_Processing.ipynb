{
 "cells": [
  {
   "cell_type": "markdown",
   "metadata": {},
   "source": [
    "# Image Processing\n",
    "In this notebook we are going to explore how images are \"seen\" by a computer as multi-dimensional arrays. We will explore both grayscale images as well as color images, before also showing how the array representation allows for simple image transformations (eg. cropping, flipping, color-to-grayscale)"
   ]
  },
  {
   "cell_type": "markdown",
   "metadata": {},
   "source": [
    "## 0. Importing Packages and a Closer Look at Numpy\n",
    "When programming, we often import packages of code (often that someone else wrote) instead of having to write everything by ourselves. These packages allow us to re-use code instead of having to write every little bit of functionality we need ourselves. \n",
    "\n",
    "-**numpy: ** common tool for handling multi-dimensional arrays, containing many useful mathematical functions (we are going to take a look at this a little)\n",
    "\n",
    "-**matplotlib: ** tools for creating graphs/plots (don't worry so much about how to use this one)"
   ]
  },
  {
   "cell_type": "code",
   "execution_count": 2,
   "metadata": {
    "collapsed": true
   },
   "outputs": [],
   "source": [
    "# Importing packages\n",
    "import numpy as np \n",
    "from matplotlib import pyplot as plt\n",
    "from scipy.ndimage import imread\n",
    "%matplotlib inline\n",
    "\n",
    "# These just change settings for output display, can just ignore\n",
    "np.set_printoptions(edgeitems=7)\n",
    "np.core.arrayprint._line_width = 160"
   ]
  },
  {
   "cell_type": "markdown",
   "metadata": {},
   "source": [
    "### Numpy Practice: Regular Arrays vs.  Numpy Arrays\n",
    "\n",
    "Here we briefly compare and contrast regular arrays with python arrays, showcasing how numpy arrays can be very useful."
   ]
  },
  {
   "cell_type": "markdown",
   "metadata": {},
   "source": [
    "**Basic Functionalities for 1D Arrays:** We begin by looking at basic operations. Notice that while we must create numpy arrays differently from regular python arrays, accessing and altering elements in a numpy array is done in the exact same way. "
   ]
  },
  {
   "cell_type": "code",
   "execution_count": 3,
   "metadata": {},
   "outputs": [
    {
     "name": "stdout",
     "output_type": "stream",
     "text": [
      "Initialization: \n",
      "Regular Array:  [1, 2, 3]\n",
      "Numpy Array:  [1 2 3] \n",
      "\n"
     ]
    }
   ],
   "source": [
    "# Initializing/Creating a regular python array vs. a numpy array\n",
    "reg_array = [1,2,3] \n",
    "np_array = np.array([1,2,3]) # One way to create a numpy array is to put a regular array into a call to np.array()\n",
    "\n",
    "print(\"Initialization: \")\n",
    "print(\"Regular Array: \", reg_array)\n",
    "print(\"Numpy Array: \", np_array, \"\\n\") "
   ]
  },
  {
   "cell_type": "code",
   "execution_count": 4,
   "metadata": {},
   "outputs": [
    {
     "name": "stdout",
     "output_type": "stream",
     "text": [
      "Getting Sizes: \n",
      "Regular Array LEN:  3\n",
      "Numpy Array SHAPE:  (3,) \n",
      "\n"
     ]
    }
   ],
   "source": [
    "# Getting information about length/sizes: Notice how numpy arrays store shapes in a tuple\n",
    "print(\"Getting Sizes: \")\n",
    "print(\"Regular Array LEN: \", len(reg_array))\n",
    "print(\"Numpy Array SHAPE: \", np_array.shape, \"\\n\")"
   ]
  },
  {
   "cell_type": "code",
   "execution_count": 5,
   "metadata": {},
   "outputs": [
    {
     "name": "stdout",
     "output_type": "stream",
     "text": [
      "Accessing the 2nd Element\n",
      "2nd Element of Regular Array:  2\n",
      "2nd Element of Numpy Array:  2 \n",
      "\n",
      "Accessing the edited 2nd Element\n",
      "2nd Element of Regular Array:  [1, 5, 3]\n",
      "2nd Element of Numpy Array:  [1 6 3]\n"
     ]
    }
   ],
   "source": [
    "# Accessing elements\n",
    "print(\"Accessing the 2nd Element\")\n",
    "print(\"2nd Element of Regular Array: \", reg_array[1])\n",
    "print(\"2nd Element of Numpy Array: \", np_array[1], \"\\n\")\n",
    "\n",
    "# Altering elements\n",
    "reg_array[1] = 5\n",
    "np_array[1] = 6\n",
    "\n",
    "print(\"Accessing the edited 2nd Element\")\n",
    "print(\"2nd Element of Regular Array: \", reg_array)\n",
    "print(\"2nd Element of Numpy Array: \", np_array)"
   ]
  },
  {
   "cell_type": "markdown",
   "metadata": {},
   "source": [
    "** Multi-Dimensional Arrays: ** Numpy arrays really shine when we want to use arrays which are multi-dimensional. Regular python arrays can also be multi-dimensional but numpy arrays allow us to do many convenient things that are not directly possible with the python versions."
   ]
  },
  {
   "cell_type": "code",
   "execution_count": 6,
   "metadata": {},
   "outputs": [
    {
     "name": "stdout",
     "output_type": "stream",
     "text": [
      "Initialization: \n",
      "Regular Array:  [[1, 2, 3], [4, 5, 6]]\n",
      "Numpy Array: \n",
      " [[1 2 3]\n",
      " [4 5 6]] \n",
      "\n",
      "Getting Sizes: \n",
      "Regular Array LEN:  2\n",
      "Numpy Array SHAPE:  (2, 3) \n",
      "\n",
      "Accessing the Element in 2nd row, 1st column:\n",
      "2nd Row, 1st Column of Regular Array:  4\n",
      "2nd Row, 1st Column of Regular Array:  4\n"
     ]
    }
   ],
   "source": [
    "# Initializing a regular python array vs. a numpy array. We can get a multi-dimensional array by NESTING arrays \n",
    "reg_array = [[1,2,3],[4,5,6]]\n",
    "np_array = np.array([[1,2,3],[4,5,6]])\n",
    "\n",
    "print(\"Initialization: \")\n",
    "print(\"Regular Array: \", reg_array)\n",
    "print(\"Numpy Array: \\n\", np_array, \"\\n\") \n",
    "\n",
    "# Getting lengths\n",
    "print(\"Getting Sizes: \")\n",
    "print(\"Regular Array LEN: \", len(reg_array))        # Notice this ignores the second dimension\n",
    "print(\"Numpy Array SHAPE: \", np_array.shape, \"\\n\")  # Notice how this prints out two numbers\n",
    "\n",
    "# Accessing elements\n",
    "print(\"Accessing the Element in 2nd row, 1st column:\")\n",
    "print(\"2nd Row, 1st Column of Regular Array: \", reg_array[1][0])     \n",
    "print(\"2nd Row, 1st Column of Regular Array: \", np_array[1,0])         # We could also have done [1][0] technically"
   ]
  },
  {
   "cell_type": "markdown",
   "metadata": {},
   "source": [
    "**The following are only possible in numpy arrays.** We can conveniently access the outermost dimension in nested arrays but numpy allows us to conveniently observe and manipulate a multi-dimensional array's inherent shape."
   ]
  },
  {
   "cell_type": "code",
   "execution_count": 7,
   "metadata": {},
   "outputs": [
    {
     "name": "stdout",
     "output_type": "stream",
     "text": [
      "Original: \n",
      "[[1 2 3]\n",
      " [4 5 6]]\n",
      "First row:  [1 2 3]\n",
      "Second column:  [2 5]\n",
      "Reshaped to (3,2):\n",
      "[[1]\n",
      " [2]\n",
      " [3]\n",
      " [4]\n",
      " [5]\n",
      " [6]]\n"
     ]
    }
   ],
   "source": [
    "# Reshaping\n",
    "print(\"Original: \")\n",
    "print(np_array)\n",
    "\n",
    "# Accessing whole rows\n",
    "print(\"First row: \", np_array[0,:])       # The \":\" means that we include all the elements along a dimension\n",
    "\n",
    "# Accessing whole columns \n",
    "print(\"Second column: \", np_array[:,1])\n",
    "\n",
    "# Reshaping\n",
    "print(\"Reshaped to (3,2):\")\n",
    "print(np_array.reshape((6,1)))"
   ]
  },
  {
   "cell_type": "markdown",
   "metadata": {},
   "source": [
    "** Useful Operations with Numpy Arrays: ** The second area where numpy really shines is that it contains useful functions/operations that operate on each element of a whole array. You cannot do any of these with regular arrays without writing them yourself with loops. "
   ]
  },
  {
   "cell_type": "code",
   "execution_count": 8,
   "metadata": {
    "collapsed": true
   },
   "outputs": [],
   "source": [
    "np_array_1 = np.array([1,2,3])\n",
    "np_array_2 = np.array([4,5,6])"
   ]
  },
  {
   "cell_type": "code",
   "execution_count": 9,
   "metadata": {},
   "outputs": [
    {
     "name": "stdout",
     "output_type": "stream",
     "text": [
      "np_array_1 + np_array_2:  [5 7 9]\n",
      "np_array_1 - np_array_2:  [-3 -3 -3]\n",
      "x^2 for array_1:  [1 4 9]\n",
      "e^x for array_1:  [  2.71828183   7.3890561   20.08553692]\n",
      "sin(x) for array_1:  [ 0.84147098  0.90929743  0.14112001]\n",
      "Reverse of array_1:  [3 2 1]\n"
     ]
    }
   ],
   "source": [
    "# + occurs element wise (similarly works for -,*,/)\n",
    "print(\"np_array_1 + np_array_2: \", np_array_1 + np_array_2)\n",
    "print(\"np_array_1 - np_array_2: \", np_array_1 - np_array_2)\n",
    "\n",
    "# power\n",
    "print(\"x^2 for array_1: \", np.power(np_array_1, 2))\n",
    "\n",
    "# e^x\n",
    "print(\"e^x for array_1: \", np.exp(np_array_1))\n",
    "\n",
    "# sin(x)\n",
    "print(\"sin(x) for array_1: \", np.sin(np_array_1))\n",
    "\n",
    "# reverse\n",
    "print(\"Reverse of array_1: \", np.flip(np_array_1, axis=0))"
   ]
  },
  {
   "cell_type": "markdown",
   "metadata": {},
   "source": [
    "## 1. Inspecting a Grayscale Image\n",
    "\n",
    "Now let's get back to images. We begin by loading a grayscale image and inspecting the pixel values. As we see, though the original image is quite detailed, it is really represented by the computer as an array of many numbers. In such grayscale images, higher numbers correspond to a darker pixels in the image. By using the functions we have learned about in numpy, we see we can inspect how big this image is (64x64 pixels)."
   ]
  },
  {
   "cell_type": "markdown",
   "metadata": {},
   "source": [
    "### Loading an image and observing its array representation"
   ]
  },
  {
   "cell_type": "code",
   "execution_count": 10,
   "metadata": {},
   "outputs": [
    {
     "data": {
      "image/png": "[encoded data removed]",
      "text/plain": [
       "<matplotlib.figure.Figure at 0x10c5e11d0>"
      ]
     },
     "metadata": {},
     "output_type": "display_data"
    }
   ],
   "source": [
    "# Loads the file\n",
    "baboon = np.genfromtxt('Images1/baboon.csv', delimiter=',') * 256   # This creates a numpy array! \n",
    "\n",
    "# Plots an image given the array of numbers\n",
    "plt.imshow(baboon, cmap = 'gray')\n",
    "plt.show()"
   ]
  },
  {
   "cell_type": "code",
   "execution_count": 11,
   "metadata": {},
   "outputs": [
    {
     "name": "stdout",
     "output_type": "stream",
     "text": [
      "Pixel Values\n",
      "[[  82.   84.   77.  115.  115.  141.  115. ...,  141.  147.  150.  135.  150.  112.  104.]\n",
      " [  78.  108.  123.  134.  125.  129.  156. ...,  159.  159.  158.  127.  148.  129.  108.]\n",
      " [  70.   80.  118.  139.  147.  139.  152. ...,  138.  149.  162.  138.  124.  125.  128.]\n",
      " [  81.  106.  111.  129.  135.  157.  134. ...,  176.  159.  151.  163.  155.  119.  100.]\n",
      " [  89.  106.  132.  141.  128.  152.  155. ...,  154.  157.  158.  124.  139.  121.  125.]\n",
      " [ 107.   93.  119.  119.  140.  160.  135. ...,  146.  162.  180.  136.  132.  135.  110.]\n",
      " [ 103.  108.  125.  146.  152.  134.  133. ...,  158.  154.  150.  158.  122.  135.  119.]\n",
      " ..., \n",
      " [ 161.  159.  167.  155.  162.  168.  150. ...,  116.  115.  127.  124.  134.  132.  123.]\n",
      " [ 157.  162.  162.  155.  159.  159.  150. ...,  118.  114.  125.  117.  129.  130.  117.]\n",
      " [ 162.  156.  156.  151.  158.  156.  158. ...,  116.  111.  127.  130.  115.  121.  126.]\n",
      " [ 151.  149.  148.  149.  158.  160.  164. ...,  119.  114.  114.  120.  119.  112.  119.]\n",
      " [ 154.  138.  145.  152.  162.  162.  146. ...,  107.  131.  113.   92.  110.   91.   80.]\n",
      " [ 145.  141.  147.  146.  151.  150.  156. ...,  105.  126.  102.   99.  102.   92.   85.]\n",
      " [ 123.  126.  130.  131.  133.  130.  151. ...,   85.  102.   97.   78.   73.   79.   82.]] \n",
      "\n",
      "Size of image array:  (64, 64)\n",
      "Pixel in 5th row and 10th column: 106.0 \n",
      "\n"
     ]
    }
   ],
   "source": [
    "# Print the pixel values\n",
    "print(\"Pixel Values\")\n",
    "print(baboon, \"\\n\")\n",
    "print(\"Size of image array: \" , baboon.shape)\n",
    "\n",
    "# Print specific pixel value \n",
    "print(\"Pixel in 5th row and 10th column:\", baboon[5,10], \"\\n\")"
   ]
  },
  {
   "cell_type": "markdown",
   "metadata": {},
   "source": [
    "### Cropping a portion of the picture\n",
    "\n",
    "Since the image is just an array of numbers, we observe we can crop the image by selecting a subset of this array. We pick a smaller 15x15 cut-out of one of the eyes and can observe each individual pixel."
   ]
  },
  {
   "cell_type": "code",
   "execution_count": 12,
   "metadata": {},
   "outputs": [
    {
     "name": "stdout",
     "output_type": "stream",
     "text": [
      "Array View: \n",
      "[[ 152.  135.  116.  116.  116.  127.  115.  132.  140.  126.  113.  103.  109.  107.  115.]\n",
      " [ 132.  135.  120.  120.  113.  116.   84.  121.  115.   77.   75.   94.   89.   86.   79.]\n",
      " [ 132.  132.  119.  117.  114.   96.   89.   82.   83.  106.  120.   99.   88.   84.   95.]\n",
      " [ 111.   95.  116.  118.  111.   96.  107.   97.   76.   95.  107.  122.  134.  154.  151.]\n",
      " [  75.   72.   72.   75.   64.   68.   69.   73.   67.   62.   60.   77.  116.  119.  111.]\n",
      " [  63.   66.   58.   62.   52.   51.   48.   52.   54.   53.   53.   61.   70.   74.   72.]\n",
      " [  68.   70.   57.   42.   83.   97.   83.   78.   82.   68.   78.   67.   44.   50.   57.]\n",
      " [  85.   90.   79.   61.  122.  135.   80.   81.  125.  112.   50.  118.   77.   40.   58.]\n",
      " [ 114.  145.  110.   40.   87.  133.  142.  136.  130.   71.   22.   88.  107.   46.   41.]\n",
      " [ 120.  151.  118.   65.   44.   59.   83.   86.   47.   25.   64.   81.  108.   82.   42.]\n",
      " [ 117.  119.  136.  120.   96.   55.   52.   53.   58.   75.  135.  138.  105.   68.   71.]\n",
      " [ 119.  115.  113.  107.  113.  123.  122.  132.  130.  130.  135.  117.   79.   49.   92.]\n",
      " [ 117.  127.  121.   83.   81.  116.  112.  108.  106.   97.   82.   86.   89.   78.  114.]\n",
      " [ 123.  104.  105.   94.   65.   63.   85.   98.  100.  128.  146.   92.   51.  124.  121.]\n",
      " [ 116.  100.   93.   73.   56.   88.  154.  182.  182.  179.  187.  169.   69.  132.  116.]]\n",
      "\n",
      "Image View: \n"
     ]
    },
    {
     "data": {
      "text/plain": [
       "<matplotlib.image.AxesImage at 0x119fdb780>"
      ]
     },
     "execution_count": 12,
     "metadata": {},
     "output_type": "execute_result"
    },
    {
     "data": {
      "image/png": "[encoded data removed]",
      "text/plain": [
       "<matplotlib.figure.Figure at 0x119e88ba8>"
      ]
     },
     "metadata": {},
     "output_type": "display_data"
    }
   ],
   "source": [
    "plt.figure(figsize=(2.5,2.5)) # This controls the size of the display (you can ignore this)\n",
    "\n",
    "print(\"Array View: \")\n",
    "eye = baboon[0:15,15:30] \n",
    "print(eye)\n",
    "\n",
    "print(\"\\nImage View: \")\n",
    "plt.imshow(baboon[0:16,15:31], cmap = 'gray') "
   ]
  },
  {
   "cell_type": "markdown",
   "metadata": {},
   "source": [
    "### Exercise 1.1: Can you select a 15x15 grid containing the other eye? Print the pixel values and show the image.\n",
    "Hint: Define a variable called `image_array` and set it equal to a crop of `baboon`. Playaround with the rows and columns selected and use `plt.imshow(image_array, cmap = 'gray')` to display the image corresponding to a specific crop."
   ]
  },
  {
   "cell_type": "code",
   "execution_count": null,
   "metadata": {
    "collapsed": true
   },
   "outputs": [],
   "source": []
  },
  {
   "cell_type": "markdown",
   "metadata": {},
   "source": [
    "## 2. Inspecting a Color Image \n",
    "A color image is simlilar to a gray scale image except each pixel is now represented by **3 values ** instead of 1. These three values correspond to **Red/Blue/Green channels** respectively."
   ]
  },
  {
   "cell_type": "markdown",
   "metadata": {},
   "source": [
    "### Color Channels"
   ]
  },
  {
   "cell_type": "code",
   "execution_count": 13,
   "metadata": {},
   "outputs": [
    {
     "data": {
      "text/plain": [
       "<matplotlib.image.AxesImage at 0x11b3b0518>"
      ]
     },
     "execution_count": 13,
     "metadata": {},
     "output_type": "execute_result"
    },
    {
     "data": {
      "image/png": "[encoded data removed]",
      "text/plain": [
       "<matplotlib.figure.Figure at 0x116b1acc0>"
      ]
     },
     "metadata": {},
     "output_type": "display_data"
    }
   ],
   "source": [
    "growlithe = imread(\"Images1/growlithe.jpg\")[200:951, 200:951]\n",
    "plt.imshow(growlithe)"
   ]
  },
  {
   "cell_type": "code",
   "execution_count": 14,
   "metadata": {},
   "outputs": [
    {
     "name": "stdout",
     "output_type": "stream",
     "text": [
      "Size of the image array:  (751, 751, 3)\n",
      "Pixel in 5th row and 10th column: [226 132   0] \n",
      "\n"
     ]
    }
   ],
   "source": [
    "# Print specific pixel value \n",
    "print(\"Size of the image array: \", growlithe.shape)\n",
    "print(\"Pixel in 5th row and 10th column:\", growlithe[200,200], \"\\n\") # As we can see, the output is a triplet of values"
   ]
  },
  {
   "cell_type": "code",
   "execution_count": 15,
   "metadata": {},
   "outputs": [
    {
     "data": {
      "text/plain": [
       "<matplotlib.image.AxesImage at 0x11b5fcc50>"
      ]
     },
     "execution_count": 15,
     "metadata": {},
     "output_type": "execute_result"
    },
    {
     "data": {
      "image/png": "[encoded data removed]",
      "text/plain": [
       "<matplotlib.figure.Figure at 0x11b3bea58>"
      ]
     },
     "metadata": {},
     "output_type": "display_data"
    }
   ],
   "source": [
    "# First Channel Corresponds to \"Redness\"\n",
    "growlithe_red = np.copy(growlithe)\n",
    "growlithe_red[:,:,(1,2)] = np.zeros_like(growlithe_red[:,:,0:2])    # Zero out the 2nd and third channel\n",
    "plt.imshow(growlithe_red)"
   ]
  },
  {
   "cell_type": "code",
   "execution_count": 16,
   "metadata": {},
   "outputs": [
    {
     "data": {
      "text/plain": [
       "<matplotlib.image.AxesImage at 0x11b9e5048>"
      ]
     },
     "execution_count": 16,
     "metadata": {},
     "output_type": "execute_result"
    },
    {
     "data": {
      "image/png": "[encoded data removed]",
      "text/plain": [
       "<matplotlib.figure.Figure at 0x11b61c748>"
      ]
     },
     "metadata": {},
     "output_type": "display_data"
    }
   ],
   "source": [
    "# Second Channel Corresponds to \"Green\"\n",
    "growlithe_green = np.copy(growlithe)\n",
    "growlithe_green[:,:,(0,2)] = np.zeros_like(growlithe_green[:,:,0:2])\n",
    "plt.imshow(growlithe_green)"
   ]
  },
  {
   "cell_type": "code",
   "execution_count": 17,
   "metadata": {},
   "outputs": [
    {
     "data": {
      "text/plain": [
       "<matplotlib.image.AxesImage at 0x11bdca8d0>"
      ]
     },
     "execution_count": 17,
     "metadata": {},
     "output_type": "execute_result"
    },
    {
     "data": {
      "image/png": "[encoded data removed]",
      "text/plain": [
       "<matplotlib.figure.Figure at 0x116b1ad68>"
      ]
     },
     "metadata": {},
     "output_type": "display_data"
    }
   ],
   "source": [
    "# Third Channel Corresponds to \"Blueness\"\n",
    "growlithe_blue = np.copy(growlithe)\n",
    "growlithe_blue[:,:,(0,1)] = np.zeros_like(growlithe_blue[:,:,0:2])\n",
    "plt.imshow(growlithe_blue)"
   ]
  },
  {
   "cell_type": "code",
   "execution_count": 18,
   "metadata": {},
   "outputs": [
    {
     "data": {
      "text/plain": [
       "<matplotlib.image.AxesImage at 0x11c176d30>"
      ]
     },
     "execution_count": 18,
     "metadata": {},
     "output_type": "execute_result"
    },
    {
     "data": {
      "image/png": "[encoded data removed]",
      "text/plain": [
       "<matplotlib.figure.Figure at 0x11a0ad860>"
      ]
     },
     "metadata": {},
     "output_type": "display_data"
    }
   ],
   "source": [
    "# Here we show that by adding all the channels together, we get the original image\n",
    "plt.imshow(growlithe_red + growlithe_green + growlithe_blue)"
   ]
  },
  {
   "cell_type": "markdown",
   "metadata": {},
   "source": [
    "### Exercise 1.2: Display 3 versions of the image, each with one of the color channels removed (eg. Only Red + Green, Only Red + Blue, Only Blue + Green). "
   ]
  },
  {
   "cell_type": "code",
   "execution_count": null,
   "metadata": {
    "collapsed": true
   },
   "outputs": [],
   "source": []
  },
  {
   "cell_type": "markdown",
   "metadata": {},
   "source": [
    "### Negative Image:\n",
    "How do you think a negative image would be created? Keep in mind all pixel values still need to fall within the same 0-255 range. \n",
    "\n",
    "-Hint 1: The darker the pixel, the lighter it should be in the negative image. The lighter the pixel, the darker it should be\n",
    "\n",
    "-Hint 2: Using any of \"+,-,*,/\" to combine a single number with a numpy array performs that operation element-wise (eg. `5 + np.array([1,2,3]) = np.array([6,7,8])`"
   ]
  },
  {
   "cell_type": "code",
   "execution_count": 19,
   "metadata": {},
   "outputs": [
    {
     "data": {
      "image/png": "[encoded data removed]",
      "text/plain": [
       "<matplotlib.figure.Figure at 0x11c1ce320>"
      ]
     },
     "metadata": {},
     "output_type": "display_data"
    },
    {
     "data": {
      "image/png": "[encoded data removed]",
      "text/plain": [
       "<matplotlib.figure.Figure at 0x11c5c4b38>"
      ]
     },
     "metadata": {},
     "output_type": "display_data"
    }
   ],
   "source": [
    "negative_baboon = 255 - baboon              \n",
    "plt.imshow(negative_baboon, cmap = 'gray')\n",
    "plt.show()\n",
    "\n",
    "negative_growlithe = 255 - baboon\n",
    "plt.imshow(255 - growlithe)\n",
    "plt.show()"
   ]
  },
  {
   "cell_type": "markdown",
   "metadata": {},
   "source": [
    "### Converting Color to Grayscale"
   ]
  },
  {
   "cell_type": "code",
   "execution_count": 20,
   "metadata": {},
   "outputs": [
    {
     "data": {
      "image/png": "[encoded data removed]",
      "text/plain": [
       "<matplotlib.figure.Figure at 0x11b3c2438>"
      ]
     },
     "metadata": {},
     "output_type": "display_data"
    }
   ],
   "source": [
    "growlithe_grayscale = np.mean(growlithe, axis = 2)\n",
    "plt.imshow(growlithe_grayscale, cmap = 'gray')\n",
    "plt.show()"
   ]
  },
  {
   "cell_type": "markdown",
   "metadata": {},
   "source": [
    "### Horizontal Flip"
   ]
  },
  {
   "cell_type": "code",
   "execution_count": 21,
   "metadata": {},
   "outputs": [
    {
     "data": {
      "text/plain": [
       "<matplotlib.image.AxesImage at 0x11e6fab70>"
      ]
     },
     "execution_count": 21,
     "metadata": {},
     "output_type": "execute_result"
    },
    {
     "data": {
      "image/png": "[encoded data removed]",
      "text/plain": [
       "<matplotlib.figure.Figure at 0x119e6fef0>"
      ]
     },
     "metadata": {},
     "output_type": "display_data"
    }
   ],
   "source": [
    "plt.imshow(np.flip(growlithe,axis=1))"
   ]
  },
  {
   "cell_type": "markdown",
   "metadata": {},
   "source": [
    "### Exercise 1.3: Vertical Flip\n",
    "Can you figure out how to do a vertical flip (this should be really easy if you know how to do horizontal)?"
   ]
  },
  {
   "cell_type": "code",
   "execution_count": null,
   "metadata": {
    "collapsed": true
   },
   "outputs": [],
   "source": []
  }
 ],
 "metadata": {
  "anaconda-cloud": {},
  "kernelspec": {
   "display_name": "Python [Python 3]",
   "language": "python",
   "name": "Python [Python 3]"
  },
  "language_info": {
   "codemirror_mode": {
    "name": "ipython",
    "version": 3
   },
   "file_extension": ".py",
   "mimetype": "text/x-python",
   "name": "python",
   "nbconvert_exporter": "python",
   "pygments_lexer": "ipython3",
   "version": "3.5.4"
  }
 },
 "nbformat": 4,
 "nbformat_minor": 1
}
